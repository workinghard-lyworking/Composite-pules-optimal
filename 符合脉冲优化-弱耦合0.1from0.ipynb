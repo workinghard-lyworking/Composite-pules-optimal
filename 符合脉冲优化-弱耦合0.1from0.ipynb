{
 "cells": [
  {
   "cell_type": "code",
   "execution_count": 1,
   "id": "fbaea584",
   "metadata": {},
   "outputs": [],
   "source": [
    "using Plots;gr()\n",
    "using Optim\n",
    "using DataFrames;using CSV\n",
    "using Pkg\n",
    "using LinearAlgebra;\n",
    "using JuliaZH;JuliaZH.set_mirror(\"PKU\")#JuliaZH.generate_startup(\"BFSU\")\n",
    "ccall((:openblas_get_num_threads64_, Base.libblas_name),Cint,())\n",
    "LinearAlgebra.BLAS.set_num_threads(8)\n",
    "using Base.Threads;nthreads()\n",
    "using Meteor.ExactDiag;\n",
    "using JLD2;using FileIO\n",
    "using DifferentialEquations"
   ]
  },
  {
   "cell_type": "code",
   "execution_count": 13,
   "id": "aa46b515",
   "metadata": {},
   "outputs": [
    {
     "data": {
      "text/plain": [
       "Hv (generic function with 1 method)"
      ]
     },
     "execution_count": 13,
     "metadata": {},
     "output_type": "execute_result"
    }
   ],
   "source": [
    "function dm2vec(dm)\n",
    "    return reshape(dm,:,1)\n",
    "end\n",
    "\n",
    "function vec2dm(vec)\n",
    "    return reshape(vec,3,:)\n",
    "end\n",
    "function thermal_state(dims,nbar)\n",
    "    c::Array{Complex{Float64}}=zeros(dims,dims)\n",
    "    if nbar==0\n",
    "        c[1,1]=1\n",
    "    else\n",
    "        for i in 1:dims\n",
    "           c[i,i]= exp(-i*log(1/nbar+1))\n",
    "        end\n",
    "    end\n",
    "    c=c/tr(c)\n",
    "    return c        \n",
    "end\n",
    "    \n",
    "function coherence_state(alpha)\n",
    "    m=exp(alpha*a₊(dim)-alpha'*a₋(dim))*n0(dim)\n",
    "    return  m*m'\n",
    "end\n",
    "    \n",
    "function fock_state(dims,n)\n",
    "    c::Matrix{ComplexF64}=zeros(dims,dims)\n",
    "    if n<dims\n",
    "        c[n+1,n+1]=1\n",
    "    end\n",
    "    return c\n",
    "end\n",
    "    \n",
    "function equ_state(dims,n)\n",
    "    c::Matrix{ComplexF64}=zeros(dims,dims)\n",
    "    for i in 1:n\n",
    "        c[i,i]=1/n    \n",
    "    end\n",
    "    return c\n",
    "end\n",
    "    \n",
    "dim=4\n",
    "η=0.084 \n",
    "    \n",
    "function a₋(n)      #n为维数\n",
    "    s::Array{Complex{Float64}}=zeros(n,n)\n",
    "    for i=1:n-1\n",
    "        s[i,i+1]=sqrt(i)\n",
    "    end\n",
    "    return s\n",
    "end\n",
    "\n",
    "a₊(n)=adjoint(a₋(n));\n",
    "a=a₊(dim)+a₋(dim)    \n",
    "# a2=kron([0 0;1 0],exp(im*η*a))\n",
    "# a3=kron([0 1;0 0],exp(-im*η*a))\n",
    "a2=kron([0 0;1 0],im*η*a₊(dim))\n",
    "a3=kron([0 1;0 0],-im*η*a₋(dim))   \n",
    "#经过尝试发现,符合脉冲并不精准,都保留下来就很不精确\n",
    "    \n",
    "σ₊=[0 0;1 0]\n",
    "σ₋=[0 1;0 0]\n",
    "σ_x=[0 1;1 0]\n",
    "σ_y=[0 -1im;1im 0]\n",
    "σ_z=[1 0;0 -1]\n",
    "\n",
    "function dm2vec(dm)\n",
    "    return reshape(dm,:,1)\n",
    "end\n",
    "\n",
    "function vec2dm(vec)\n",
    "    return reshape(vec,Int(sqrt(size(vec)[1])),:)\n",
    "end\n",
    "    \n",
    "function temperature(nbar)\n",
    "    return (6.626*1e-34*1e6*1)/(1.38*1e-23*log(1/nbar+1))\n",
    "end\n",
    "    \n",
    "n=kron(I(2),a₊(dim)*a₋(dim))\n",
    "en=kron([0 0;0 1],I(dim))\n",
    "\n",
    "ν=1.\n",
    "    \n",
    "function H(Ω,Δ)\n",
    "    unitary::Matrix{ComplexF64}=kron(I(dim*2),-im*(ν*n-Δ*en+Ω/2*a2+Ω'/2*a3))+kron(transpose(im*(ν*n-Δ*en+Ω/2*a2+Ω'/2*a3)),I(dim*2))\n",
    "    return unitary\n",
    "end\n",
    "    \n",
    "function Hv(Ω,Δ)\n",
    "    unitary::Matrix{ComplexF64}=ν*n-Δ*en+Ω/2*a2+Ω'/2*a3\n",
    "    return unitary\n",
    "end\n"
   ]
  },
  {
   "cell_type": "code",
   "execution_count": 14,
   "id": "750d9fdd",
   "metadata": {},
   "outputs": [],
   "source": [
    "instate=kron([1. 0;0 0],equ_state(dim,2));"
   ]
  },
  {
   "cell_type": "code",
   "execution_count": 15,
   "id": "c6906f6d",
   "metadata": {},
   "outputs": [
    {
     "data": {
      "text/plain": [
       "R (generic function with 1 method)"
      ]
     },
     "execution_count": 15,
     "metadata": {},
     "output_type": "execute_result"
    }
   ],
   "source": [
    "function R(t,phi,omega,delta)\n",
    "    return exp(-im*t*Hv(omega*exp(im*phi),delta))\n",
    "end"
   ]
  },
  {
   "cell_type": "code",
   "execution_count": 16,
   "id": "134b8b0c",
   "metadata": {},
   "outputs": [
    {
     "data": {
      "text/plain": [
       "8×8 Matrix{Float64}:\n",
       " 0.0  0.0  0.0  0.0  0.0  1.0  0.0  0.0\n",
       " 0.0  1.0  0.0  0.0  0.0  0.0  0.0  0.0\n",
       " 0.0  0.0  1.0  0.0  0.0  0.0  0.0  0.0\n",
       " 0.0  0.0  0.0  1.0  0.0  0.0  0.0  0.0\n",
       " 0.0  0.0  0.0  0.0  1.0  0.0  0.0  0.0\n",
       " 1.0  0.0  0.0  0.0  0.0  0.0  0.0  0.0\n",
       " 0.0  0.0  0.0  0.0  0.0  0.0  1.0  0.0\n",
       " 0.0  0.0  0.0  0.0  0.0  0.0  0.0  1.0"
      ]
     },
     "execution_count": 16,
     "metadata": {},
     "output_type": "execute_result"
    }
   ],
   "source": [
    "function swap_prod(dims,n)#蓝边带交换\n",
    "    s=zeros(dim*2,dim*2)+I(dim*2)\n",
    "    s[n+1,n+1]=0.;\n",
    "    s[n+2+dims,n+2+dims]=0.;\n",
    "    s[n+2+dims,n+1]=1.;\n",
    "    s[n+1,n+2+dims]=1.;\n",
    "    \n",
    "    \n",
    "    return s\n",
    "end\n",
    "swap=swap_prod(dim,0)"
   ]
  },
  {
   "cell_type": "code",
   "execution_count": 28,
   "id": "33c042a3",
   "metadata": {},
   "outputs": [
    {
     "data": {
      "text/plain": [
       "feval (generic function with 1 method)"
      ]
     },
     "execution_count": 28,
     "metadata": {},
     "output_type": "execute_result"
    }
   ],
   "source": [
    "function feval(x)\n",
    "    swapfit=R(x[3],x[5],0.1,1)*R(x[2],x[4],0.1,1)*R(x[1],0,0.1,1)\n",
    "    opres=norm(norm.(swapfit)-norm.(swap))\n",
    "    println(round.(x,digits=5),\"    \",round(opres,digits=4))\n",
    "    return opres\n",
    "end"
   ]
  },
  {
   "cell_type": "code",
   "execution_count": 43,
   "id": "166c8f44",
   "metadata": {},
   "outputs": [],
   "source": [
    "# xini=[1.39359/η/0.1 1.41803/η/0.1 2.92217/η/0.1 1.34343  5.46806];\n",
    "xini=[470.00471, 1262.15604, 1247.92811, 4.53369, 6.77461] #from0\n",
    "\n",
    "lower=[0.,0,0,0,0];upper=[4*pi/η/0.1,4*pi/η/0.1,4*pi/η/0.1,2*pi,2*pi];\n",
    "# res=optimize(feval,xini,ParticleSwarm(; lower = lower,upper = upper,n_particles = 10),Optim.Options(iterations = 10000))\n",
    "# res=optimize(feval,xini,LBFGS())\n",
    "    "
   ]
  },
  {
   "cell_type": "code",
   "execution_count": 44,
   "id": "a0064fa6",
   "metadata": {},
   "outputs": [
    {
     "data": {
      "text/plain": [
       "5-element Vector{Float64}:\n",
       "  470.00471\n",
       " 1262.15604\n",
       " 1247.92811\n",
       "    4.53369\n",
       "    6.77461"
      ]
     },
     "execution_count": 44,
     "metadata": {},
     "output_type": "execute_result"
    }
   ],
   "source": [
    "xini"
   ]
  },
  {
   "cell_type": "code",
   "execution_count": 45,
   "id": "bdcc4053",
   "metadata": {},
   "outputs": [
    {
     "data": {
      "text/plain": [
       "5-element Vector{Float64}:\n",
       "  470.0047135133139\n",
       " 1262.1560435737874\n",
       " 1247.9281060929895\n",
       "    4.533694799879266\n",
       "    6.774609711963202"
      ]
     },
     "execution_count": 45,
     "metadata": {},
     "output_type": "execute_result"
    }
   ],
   "source": [
    "res.minimizer"
   ]
  },
  {
   "cell_type": "code",
   "execution_count": 46,
   "id": "f0728efe",
   "metadata": {},
   "outputs": [
    {
     "data": {
      "text/plain": [
       "0.12451489627799936"
      ]
     },
     "execution_count": 46,
     "metadata": {},
     "output_type": "execute_result"
    }
   ],
   "source": [
    "res.minimum"
   ]
  },
  {
   "cell_type": "code",
   "execution_count": 47,
   "id": "cf8cd419",
   "metadata": {},
   "outputs": [
    {
     "data": {
      "text/plain": [
       "feval2 (generic function with 1 method)"
      ]
     },
     "execution_count": 47,
     "metadata": {},
     "output_type": "execute_result"
    }
   ],
   "source": [
    "function feval2(x)\n",
    "    swapfit=R(x[3],x[5],0.1,1)*R(x[2],x[4],0.1,1)*R(x[1],0,0.1,1)\n",
    "    \n",
    "    return swapfit\n",
    "end"
   ]
  },
  {
   "cell_type": "code",
   "execution_count": 48,
   "id": "829d2f1b",
   "metadata": {},
   "outputs": [
    {
     "data": {
      "text/html": [
       "<div><div style = \"float: left;\"><span>8×8 DataFrame</span></div><div style = \"clear: both;\"></div></div><div class = \"data-frame\" style = \"overflow-x: scroll;\"><table class = \"data-frame\" style = \"margin-bottom: 6px;\"><thead><tr class = \"header\"><th class = \"rowNumber\" style = \"font-weight: bold; text-align: right;\">Row</th><th style = \"text-align: left;\">x1</th><th style = \"text-align: left;\">x2</th><th style = \"text-align: left;\">x3</th><th style = \"text-align: left;\">x4</th><th style = \"text-align: left;\">x5</th><th style = \"text-align: left;\">x6</th><th style = \"text-align: left;\">x7</th><th style = \"text-align: left;\">x8</th></tr><tr class = \"subheader headerLastRow\"><th class = \"rowNumber\" style = \"font-weight: bold; text-align: right;\"></th><th title = \"Float64\" style = \"text-align: left;\">Float64</th><th title = \"Float64\" style = \"text-align: left;\">Float64</th><th title = \"Float64\" style = \"text-align: left;\">Float64</th><th title = \"Float64\" style = \"text-align: left;\">Float64</th><th title = \"Float64\" style = \"text-align: left;\">Float64</th><th title = \"Float64\" style = \"text-align: left;\">Float64</th><th title = \"Float64\" style = \"text-align: left;\">Float64</th><th title = \"Float64\" style = \"text-align: left;\">Float64</th></tr></thead><tbody><tr><td class = \"rowNumber\" style = \"font-weight: bold; text-align: right;\">1</td><td style = \"text-align: right;\">0.0604</td><td style = \"text-align: right;\">0.0</td><td style = \"text-align: right;\">0.0</td><td style = \"text-align: right;\">0.0</td><td style = \"text-align: right;\">0.0</td><td style = \"text-align: right;\">0.9982</td><td style = \"text-align: right;\">0.0</td><td style = \"text-align: right;\">0.0</td></tr><tr><td class = \"rowNumber\" style = \"font-weight: bold; text-align: right;\">2</td><td style = \"text-align: right;\">0.0</td><td style = \"text-align: right;\">0.9993</td><td style = \"text-align: right;\">0.0</td><td style = \"text-align: right;\">0.0</td><td style = \"text-align: right;\">0.0</td><td style = \"text-align: right;\">0.0</td><td style = \"text-align: right;\">0.0367</td><td style = \"text-align: right;\">0.0</td></tr><tr><td class = \"rowNumber\" style = \"font-weight: bold; text-align: right;\">3</td><td style = \"text-align: right;\">0.0</td><td style = \"text-align: right;\">0.0</td><td style = \"text-align: right;\">0.9986</td><td style = \"text-align: right;\">0.0</td><td style = \"text-align: right;\">0.0</td><td style = \"text-align: right;\">0.0</td><td style = \"text-align: right;\">0.0</td><td style = \"text-align: right;\">0.0525</td></tr><tr><td class = \"rowNumber\" style = \"font-weight: bold; text-align: right;\">4</td><td style = \"text-align: right;\">0.0</td><td style = \"text-align: right;\">0.0</td><td style = \"text-align: right;\">0.0</td><td style = \"text-align: right;\">1.0</td><td style = \"text-align: right;\">0.0</td><td style = \"text-align: right;\">0.0</td><td style = \"text-align: right;\">0.0</td><td style = \"text-align: right;\">0.0</td></tr><tr><td class = \"rowNumber\" style = \"font-weight: bold; text-align: right;\">5</td><td style = \"text-align: right;\">0.0</td><td style = \"text-align: right;\">0.0</td><td style = \"text-align: right;\">0.0</td><td style = \"text-align: right;\">0.0</td><td style = \"text-align: right;\">1.0</td><td style = \"text-align: right;\">0.0</td><td style = \"text-align: right;\">0.0</td><td style = \"text-align: right;\">0.0</td></tr><tr><td class = \"rowNumber\" style = \"font-weight: bold; text-align: right;\">6</td><td style = \"text-align: right;\">0.9982</td><td style = \"text-align: right;\">0.0</td><td style = \"text-align: right;\">0.0</td><td style = \"text-align: right;\">0.0</td><td style = \"text-align: right;\">0.0</td><td style = \"text-align: right;\">0.0604</td><td style = \"text-align: right;\">0.0</td><td style = \"text-align: right;\">0.0</td></tr><tr><td class = \"rowNumber\" style = \"font-weight: bold; text-align: right;\">7</td><td style = \"text-align: right;\">0.0</td><td style = \"text-align: right;\">0.0367</td><td style = \"text-align: right;\">0.0</td><td style = \"text-align: right;\">0.0</td><td style = \"text-align: right;\">0.0</td><td style = \"text-align: right;\">0.0</td><td style = \"text-align: right;\">0.9993</td><td style = \"text-align: right;\">0.0</td></tr><tr><td class = \"rowNumber\" style = \"font-weight: bold; text-align: right;\">8</td><td style = \"text-align: right;\">0.0</td><td style = \"text-align: right;\">0.0</td><td style = \"text-align: right;\">0.0525</td><td style = \"text-align: right;\">0.0</td><td style = \"text-align: right;\">0.0</td><td style = \"text-align: right;\">0.0</td><td style = \"text-align: right;\">0.0</td><td style = \"text-align: right;\">0.9986</td></tr></tbody></table></div>"
      ],
      "text/latex": [
       "\\begin{tabular}{r|cccccccc}\n",
       "\t& x1 & x2 & x3 & x4 & x5 & x6 & x7 & x8\\\\\n",
       "\t\\hline\n",
       "\t& Float64 & Float64 & Float64 & Float64 & Float64 & Float64 & Float64 & Float64\\\\\n",
       "\t\\hline\n",
       "\t1 & 0.0604 & 0.0 & 0.0 & 0.0 & 0.0 & 0.9982 & 0.0 & 0.0 \\\\\n",
       "\t2 & 0.0 & 0.9993 & 0.0 & 0.0 & 0.0 & 0.0 & 0.0367 & 0.0 \\\\\n",
       "\t3 & 0.0 & 0.0 & 0.9986 & 0.0 & 0.0 & 0.0 & 0.0 & 0.0525 \\\\\n",
       "\t4 & 0.0 & 0.0 & 0.0 & 1.0 & 0.0 & 0.0 & 0.0 & 0.0 \\\\\n",
       "\t5 & 0.0 & 0.0 & 0.0 & 0.0 & 1.0 & 0.0 & 0.0 & 0.0 \\\\\n",
       "\t6 & 0.9982 & 0.0 & 0.0 & 0.0 & 0.0 & 0.0604 & 0.0 & 0.0 \\\\\n",
       "\t7 & 0.0 & 0.0367 & 0.0 & 0.0 & 0.0 & 0.0 & 0.9993 & 0.0 \\\\\n",
       "\t8 & 0.0 & 0.0 & 0.0525 & 0.0 & 0.0 & 0.0 & 0.0 & 0.9986 \\\\\n",
       "\\end{tabular}\n"
      ],
      "text/plain": [
       "\u001b[1m8×8 DataFrame\u001b[0m\n",
       "\u001b[1m Row \u001b[0m│\u001b[1m x1      \u001b[0m\u001b[1m x2      \u001b[0m\u001b[1m x3      \u001b[0m\u001b[1m x4      \u001b[0m\u001b[1m x5      \u001b[0m\u001b[1m x6      \u001b[0m\u001b[1m x7      \u001b[0m\u001b[1m x8      \u001b[0m\n",
       "     │\u001b[90m Float64 \u001b[0m\u001b[90m Float64 \u001b[0m\u001b[90m Float64 \u001b[0m\u001b[90m Float64 \u001b[0m\u001b[90m Float64 \u001b[0m\u001b[90m Float64 \u001b[0m\u001b[90m Float64 \u001b[0m\u001b[90m Float64 \u001b[0m\n",
       "─────┼────────────────────────────────────────────────────────────────────────\n",
       "   1 │  0.0604   0.0      0.0         0.0      0.0   0.9982   0.0      0.0\n",
       "   2 │  0.0      0.9993   0.0         0.0      0.0   0.0      0.0367   0.0\n",
       "   3 │  0.0      0.0      0.9986      0.0      0.0   0.0      0.0      0.0525\n",
       "   4 │  0.0      0.0      0.0         1.0      0.0   0.0      0.0      0.0\n",
       "   5 │  0.0      0.0      0.0         0.0      1.0   0.0      0.0      0.0\n",
       "   6 │  0.9982   0.0      0.0         0.0      0.0   0.0604   0.0      0.0\n",
       "   7 │  0.0      0.0367   0.0         0.0      0.0   0.0      0.9993   0.0\n",
       "   8 │  0.0      0.0      0.0525      0.0      0.0   0.0      0.0      0.9986"
      ]
     },
     "execution_count": 48,
     "metadata": {},
     "output_type": "execute_result"
    }
   ],
   "source": [
    "round.(DataFrame(abs.(feval2(xini)),:auto),digits=4)"
   ]
  },
  {
   "cell_type": "code",
   "execution_count": 49,
   "id": "6f63a12b",
   "metadata": {},
   "outputs": [],
   "source": [
    "# round.(DataFrame(feval2(xini)/(feval2(xini)[1]/abs.(feval2(xini))[1]),:auto),digits=4)"
   ]
  },
  {
   "cell_type": "code",
   "execution_count": 50,
   "id": "3b7c26aa",
   "metadata": {},
   "outputs": [
    {
     "data": {
      "text/html": [
       "<div><div style = \"float: left;\"><span>8×8 DataFrame</span></div><div style = \"clear: both;\"></div></div><div class = \"data-frame\" style = \"overflow-x: scroll;\"><table class = \"data-frame\" style = \"margin-bottom: 6px;\"><thead><tr class = \"header\"><th class = \"rowNumber\" style = \"font-weight: bold; text-align: right;\">Row</th><th style = \"text-align: left;\">x1</th><th style = \"text-align: left;\">x2</th><th style = \"text-align: left;\">x3</th><th style = \"text-align: left;\">x4</th><th style = \"text-align: left;\">x5</th><th style = \"text-align: left;\">x6</th><th style = \"text-align: left;\">x7</th><th style = \"text-align: left;\">x8</th></tr><tr class = \"subheader headerLastRow\"><th class = \"rowNumber\" style = \"font-weight: bold; text-align: right;\"></th><th title = \"Float64\" style = \"text-align: left;\">Float64</th><th title = \"Float64\" style = \"text-align: left;\">Float64</th><th title = \"Float64\" style = \"text-align: left;\">Float64</th><th title = \"Float64\" style = \"text-align: left;\">Float64</th><th title = \"Float64\" style = \"text-align: left;\">Float64</th><th title = \"Float64\" style = \"text-align: left;\">Float64</th><th title = \"Float64\" style = \"text-align: left;\">Float64</th><th title = \"Float64\" style = \"text-align: left;\">Float64</th></tr></thead><tbody><tr><td class = \"rowNumber\" style = \"font-weight: bold; text-align: right;\">1</td><td style = \"text-align: right;\">0.0604</td><td style = \"text-align: right;\">0.0</td><td style = \"text-align: right;\">0.0</td><td style = \"text-align: right;\">0.0</td><td style = \"text-align: right;\">0.0</td><td style = \"text-align: right;\">0.9982</td><td style = \"text-align: right;\">0.0</td><td style = \"text-align: right;\">0.0</td></tr><tr><td class = \"rowNumber\" style = \"font-weight: bold; text-align: right;\">2</td><td style = \"text-align: right;\">0.0</td><td style = \"text-align: right;\">0.9993</td><td style = \"text-align: right;\">0.0</td><td style = \"text-align: right;\">0.0</td><td style = \"text-align: right;\">0.0</td><td style = \"text-align: right;\">0.0</td><td style = \"text-align: right;\">0.0367</td><td style = \"text-align: right;\">0.0</td></tr><tr><td class = \"rowNumber\" style = \"font-weight: bold; text-align: right;\">3</td><td style = \"text-align: right;\">0.0</td><td style = \"text-align: right;\">0.0</td><td style = \"text-align: right;\">0.9986</td><td style = \"text-align: right;\">0.0</td><td style = \"text-align: right;\">0.0</td><td style = \"text-align: right;\">0.0</td><td style = \"text-align: right;\">0.0</td><td style = \"text-align: right;\">0.0525</td></tr><tr><td class = \"rowNumber\" style = \"font-weight: bold; text-align: right;\">4</td><td style = \"text-align: right;\">0.0</td><td style = \"text-align: right;\">0.0</td><td style = \"text-align: right;\">0.0</td><td style = \"text-align: right;\">1.0</td><td style = \"text-align: right;\">0.0</td><td style = \"text-align: right;\">0.0</td><td style = \"text-align: right;\">0.0</td><td style = \"text-align: right;\">0.0</td></tr><tr><td class = \"rowNumber\" style = \"font-weight: bold; text-align: right;\">5</td><td style = \"text-align: right;\">0.0</td><td style = \"text-align: right;\">0.0</td><td style = \"text-align: right;\">0.0</td><td style = \"text-align: right;\">0.0</td><td style = \"text-align: right;\">1.0</td><td style = \"text-align: right;\">0.0</td><td style = \"text-align: right;\">0.0</td><td style = \"text-align: right;\">0.0</td></tr><tr><td class = \"rowNumber\" style = \"font-weight: bold; text-align: right;\">6</td><td style = \"text-align: right;\">0.9982</td><td style = \"text-align: right;\">0.0</td><td style = \"text-align: right;\">0.0</td><td style = \"text-align: right;\">0.0</td><td style = \"text-align: right;\">0.0</td><td style = \"text-align: right;\">0.0604</td><td style = \"text-align: right;\">0.0</td><td style = \"text-align: right;\">0.0</td></tr><tr><td class = \"rowNumber\" style = \"font-weight: bold; text-align: right;\">7</td><td style = \"text-align: right;\">0.0</td><td style = \"text-align: right;\">0.0367</td><td style = \"text-align: right;\">0.0</td><td style = \"text-align: right;\">0.0</td><td style = \"text-align: right;\">0.0</td><td style = \"text-align: right;\">0.0</td><td style = \"text-align: right;\">0.9993</td><td style = \"text-align: right;\">0.0</td></tr><tr><td class = \"rowNumber\" style = \"font-weight: bold; text-align: right;\">8</td><td style = \"text-align: right;\">0.0</td><td style = \"text-align: right;\">0.0</td><td style = \"text-align: right;\">0.0525</td><td style = \"text-align: right;\">0.0</td><td style = \"text-align: right;\">0.0</td><td style = \"text-align: right;\">0.0</td><td style = \"text-align: right;\">0.0</td><td style = \"text-align: right;\">0.9986</td></tr></tbody></table></div>"
      ],
      "text/latex": [
       "\\begin{tabular}{r|cccccccc}\n",
       "\t& x1 & x2 & x3 & x4 & x5 & x6 & x7 & x8\\\\\n",
       "\t\\hline\n",
       "\t& Float64 & Float64 & Float64 & Float64 & Float64 & Float64 & Float64 & Float64\\\\\n",
       "\t\\hline\n",
       "\t1 & 0.0604 & 0.0 & 0.0 & 0.0 & 0.0 & 0.9982 & 0.0 & 0.0 \\\\\n",
       "\t2 & 0.0 & 0.9993 & 0.0 & 0.0 & 0.0 & 0.0 & 0.0367 & 0.0 \\\\\n",
       "\t3 & 0.0 & 0.0 & 0.9986 & 0.0 & 0.0 & 0.0 & 0.0 & 0.0525 \\\\\n",
       "\t4 & 0.0 & 0.0 & 0.0 & 1.0 & 0.0 & 0.0 & 0.0 & 0.0 \\\\\n",
       "\t5 & 0.0 & 0.0 & 0.0 & 0.0 & 1.0 & 0.0 & 0.0 & 0.0 \\\\\n",
       "\t6 & 0.9982 & 0.0 & 0.0 & 0.0 & 0.0 & 0.0604 & 0.0 & 0.0 \\\\\n",
       "\t7 & 0.0 & 0.0367 & 0.0 & 0.0 & 0.0 & 0.0 & 0.9993 & 0.0 \\\\\n",
       "\t8 & 0.0 & 0.0 & 0.0525 & 0.0 & 0.0 & 0.0 & 0.0 & 0.9986 \\\\\n",
       "\\end{tabular}\n"
      ],
      "text/plain": [
       "\u001b[1m8×8 DataFrame\u001b[0m\n",
       "\u001b[1m Row \u001b[0m│\u001b[1m x1      \u001b[0m\u001b[1m x2      \u001b[0m\u001b[1m x3      \u001b[0m\u001b[1m x4      \u001b[0m\u001b[1m x5      \u001b[0m\u001b[1m x6      \u001b[0m\u001b[1m x7      \u001b[0m\u001b[1m x8      \u001b[0m\n",
       "     │\u001b[90m Float64 \u001b[0m\u001b[90m Float64 \u001b[0m\u001b[90m Float64 \u001b[0m\u001b[90m Float64 \u001b[0m\u001b[90m Float64 \u001b[0m\u001b[90m Float64 \u001b[0m\u001b[90m Float64 \u001b[0m\u001b[90m Float64 \u001b[0m\n",
       "─────┼────────────────────────────────────────────────────────────────────────\n",
       "   1 │  0.0604   0.0      0.0         0.0      0.0   0.9982   0.0      0.0\n",
       "   2 │  0.0      0.9993   0.0         0.0      0.0   0.0      0.0367   0.0\n",
       "   3 │  0.0      0.0      0.9986      0.0      0.0   0.0      0.0      0.0525\n",
       "   4 │  0.0      0.0      0.0         1.0      0.0   0.0      0.0      0.0\n",
       "   5 │  0.0      0.0      0.0         0.0      1.0   0.0      0.0      0.0\n",
       "   6 │  0.9982   0.0      0.0         0.0      0.0   0.0604   0.0      0.0\n",
       "   7 │  0.0      0.0367   0.0         0.0      0.0   0.0      0.9993   0.0\n",
       "   8 │  0.0      0.0      0.0525      0.0      0.0   0.0      0.0      0.9986"
      ]
     },
     "execution_count": 50,
     "metadata": {},
     "output_type": "execute_result"
    }
   ],
   "source": [
    "round.(DataFrame(abs.(feval2(res.minimizer)),:auto),digits=4)"
   ]
  },
  {
   "cell_type": "code",
   "execution_count": null,
   "id": "356bf013",
   "metadata": {},
   "outputs": [],
   "source": []
  },
  {
   "cell_type": "code",
   "execution_count": null,
   "id": "b6ff2302",
   "metadata": {},
   "outputs": [],
   "source": []
  }
 ],
 "metadata": {
  "kernelspec": {
   "display_name": "Julia 1.8.5",
   "language": "julia",
   "name": "julia-1.8"
  },
  "language_info": {
   "file_extension": ".jl",
   "mimetype": "application/julia",
   "name": "julia",
   "version": "1.8.5"
  }
 },
 "nbformat": 4,
 "nbformat_minor": 5
}
